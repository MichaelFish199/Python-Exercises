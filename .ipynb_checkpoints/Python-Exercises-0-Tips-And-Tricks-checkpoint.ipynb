{
 "cells": [
  {
   "cell_type": "code",
   "execution_count": null,
   "id": "e94bc55c",
   "metadata": {},
   "outputs": [],
   "source": [
    "for i in range(108): # you can display text in diffrent collors and formats\n",
    "    print(f\"\\033[{i}mTHIS IS TEXT\")"
   ]
  },
  {
   "cell_type": "code",
   "execution_count": null,
   "id": "b61220c7",
   "metadata": {},
   "outputs": [],
   "source": [
    "a = (4, 2, 5)\n",
    "b = (1, 2, 3)\n",
    "\n",
    "a, b = b, a # you can swap variabels like this"
   ]
  },
  {
   "cell_type": "code",
   "execution_count": null,
   "id": "f7ed94a2",
   "metadata": {},
   "outputs": [],
   "source": [
    "x = 1_000_000_000 # you can add underscores to big numbers so they are easier to read in 'code'"
   ]
  },
  {
   "cell_type": "code",
   "execution_count": null,
   "id": "8c2a755a",
   "metadata": {},
   "outputs": [],
   "source": [
    "x = 1000000000\n",
    "\n",
    "print(f\"{x:_}\") # using string formating you can make number easier to read while displaying. Also works with old '%i' c type formating.\n",
    "print(f\"{x:,}\")"
   ]
  },
  {
   "cell_type": "code",
   "execution_count": null,
   "id": "f2b56ee5",
   "metadata": {},
   "outputs": [],
   "source": [
    "for _ in range(10): # by convention use '_' for variables that you are not gonna use.\n",
    "    print(\"HELLO\")"
   ]
  },
  {
   "cell_type": "code",
   "execution_count": null,
   "id": "f2dc8615",
   "metadata": {},
   "outputs": [],
   "source": [
    "\"\"\" you can perform logical gates operations using:\n",
    "\n",
    "& - AND\n",
    "~ - NOT\n",
    "| - OR\n",
    "^ - XOR\n",
    "\n",
    "\"\"\";"
   ]
  },
  {
   "cell_type": "code",
   "execution_count": null,
   "id": "bc821e23",
   "metadata": {},
   "outputs": [],
   "source": [
    "print([0] * 5) # you can multiply list with a number to create copies\n",
    "print([[0,1]] * 5)"
   ]
  },
  {
   "cell_type": "code",
   "execution_count": null,
   "id": "ee6aff00",
   "metadata": {},
   "outputs": [],
   "source": [
    "num = 45.234999998999\n",
    "\n",
    "print(format(num, \".3f\")) # using formating you can round numbers\n",
    "print(f\"{num:.3f}\")"
   ]
  },
  {
   "cell_type": "code",
   "execution_count": 2,
   "id": "a340c550",
   "metadata": {},
   "outputs": [
    {
     "name": "stdout",
     "output_type": "stream",
     "text": [
      "2550803903728\n",
      "2550824411632\n"
     ]
    }
   ],
   "source": [
    "a = \"str\"\n",
    "\n",
    "b = a[::-1][::-1] # to copy string you have to reverse it twice.\n",
    "\n",
    "print(id(a))\n",
    "print(id(b))"
   ]
  },
  {
   "cell_type": "code",
   "execution_count": 1,
   "id": "51334e85",
   "metadata": {},
   "outputs": [],
   "source": [
    "weather = 'stormy'\n",
    "\n",
    "if weather  == 'stormy' or weather  == 'rainy' or weather  == 'sunny':\n",
    "    pass\n",
    "\n",
    "if weather in ['stormy', 'rainy', 'sunny']: # you can replace complicated statement using in operator.\n",
    "    pass"
   ]
  },
  {
   "cell_type": "code",
   "execution_count": null,
   "id": "af838852",
   "metadata": {},
   "outputs": [],
   "source": [
    "def foo():\n",
    "    ... # pass can be replaced by thiple dots ..."
   ]
  },
  {
   "cell_type": "code",
   "execution_count": 3,
   "id": "77fe2f9e",
   "metadata": {},
   "outputs": [
    {
     "name": "stdout",
     "output_type": "stream",
     "text": [
      "25\n",
      "25\n"
     ]
    }
   ],
   "source": [
    "a = 25\n",
    "\n",
    "if a > 20 and a < 30: # instead of writing code this way.\n",
    "    print(a)\n",
    "    \n",
    "if 20 < a < 30: # you can write it in more mathematical way.\n",
    "    print(a)"
   ]
  },
  {
   "cell_type": "code",
   "execution_count": 12,
   "id": "64ce2550",
   "metadata": {},
   "outputs": [
    {
     "name": "stdout",
     "output_type": "stream",
     "text": [
      "20\n",
      "20\n"
     ]
    }
   ],
   "source": [
    "age = 20\n",
    "power = 9000\n",
    "\n",
    "if age > 18 and age < 30 and power > 2500 and power < 10_000: # insted of writing conditions this way.\n",
    "    print(age)\n",
    "  \n",
    "\n",
    "\n",
    "conditions = [age > 18,\n",
    "              age < 30,\n",
    "              power > 2500,\n",
    "              power < 10_000]\n",
    "\n",
    "if all(conditions): # you can use 'all' or 'any' function and pass a list of conditions.\n",
    "    print(age)"
   ]
  },
  {
   "cell_type": "code",
   "execution_count": 1,
   "id": "2f78fa9d",
   "metadata": {},
   "outputs": [
    {
     "name": "stdout",
     "output_type": "stream",
     "text": [
      "pow(3,3) = 27\n"
     ]
    }
   ],
   "source": [
    "print(f\"{pow(3,3) = }\") # using this syntax in string formating you can display function(with parameters) and result of it."
   ]
  },
  {
   "cell_type": "code",
   "execution_count": null,
   "id": "16bfaae8",
   "metadata": {},
   "outputs": [],
   "source": []
  }
 ],
 "metadata": {
  "kernelspec": {
   "display_name": "Python 3 (ipykernel)",
   "language": "python",
   "name": "python3"
  },
  "language_info": {
   "codemirror_mode": {
    "name": "ipython",
    "version": 3
   },
   "file_extension": ".py",
   "mimetype": "text/x-python",
   "name": "python",
   "nbconvert_exporter": "python",
   "pygments_lexer": "ipython3",
   "version": "3.9.7"
  }
 },
 "nbformat": 4,
 "nbformat_minor": 5
}
