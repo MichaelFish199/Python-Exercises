{
 "cells": [
  {
   "cell_type": "code",
   "execution_count": null,
   "id": "162268bf",
   "metadata": {},
   "outputs": [],
   "source": [
    "a = \"This is text\"\n",
    "\n",
    "# display this string.                                                                                                                        Print(a) or a\n",
    "\n"
   ]
  },
  {
   "cell_type": "code",
   "execution_count": null,
   "id": "35e651e2",
   "metadata": {},
   "outputs": [],
   "source": [
    "a = [\"dog\", \"cat\", \"mouse\", \"bird\"]\n",
    "\n",
    "# get first element of this list.                                                                                                            a[0]\n",
    "\n"
   ]
  },
  {
   "cell_type": "code",
   "execution_count": null,
   "id": "42d69789",
   "metadata": {},
   "outputs": [],
   "source": [
    "a = \"Hello world\"\n",
    "\n",
    "# turn this string into set.                                                                                                                 set(a)\n",
    "\n"
   ]
  },
  {
   "cell_type": "code",
   "execution_count": null,
   "id": "b25033ad",
   "metadata": {},
   "outputs": [],
   "source": [
    "a = [1, 1, 6, 6, 5, 1, 1]\n",
    "\n",
    "# using this list get 3 elements in the middle [6, 6, 5].                                                                                    a[2:5]\n",
    "\n"
   ]
  },
  {
   "cell_type": "code",
   "execution_count": null,
   "id": "3d9806e6",
   "metadata": {},
   "outputs": [],
   "source": [
    "a = [\"dog\", \"cat\", \"mouse\", \"bird\"]\n",
    "\n",
    "# replace element at index 1 into \"catto\".                                                                                                      a[1] = \"catto\"\n",
    "\n"
   ]
  },
  {
   "cell_type": "code",
   "execution_count": null,
   "id": "f8baf9cf",
   "metadata": {},
   "outputs": [],
   "source": [
    "a = [1, 1, 6, 6, 5, 1, 1]\n",
    "\n",
    "# copy this list into \"b\" variable.                                                                                                              b = a.copy #its not the same as a = b\n",
    "\n"
   ]
  },
  {
   "cell_type": "code",
   "execution_count": null,
   "id": "1ac657d8",
   "metadata": {},
   "outputs": [],
   "source": [
    "# create list containing numbers from 0 to 50.                                                                                                   a = list(range(50))\n",
    "\n"
   ]
  },
  {
   "cell_type": "code",
   "execution_count": null,
   "id": "7517d946",
   "metadata": {},
   "outputs": [],
   "source": [
    "a = [2, 6, 1, 8, 2, -8, 9, -20, 12, 1]\n",
    "\n",
    "# get the smalles value in the list.                                                                                                             min(a)\n",
    "\n"
   ]
  },
  {
   "cell_type": "code",
   "execution_count": null,
   "id": "ab3190fd",
   "metadata": {},
   "outputs": [],
   "source": [
    "a = [2, 6, 1, 8, 2, -8, 9, -20, 12, 1]\n",
    "\n",
    "# get the largest value in the list.                                                                                                             max(a)\n",
    "\n"
   ]
  },
  {
   "cell_type": "code",
   "execution_count": null,
   "id": "ba741bf2",
   "metadata": {},
   "outputs": [],
   "source": [
    "a = {\"brand\": \"Ford\", 'kaja': 'maj'}\n",
    "b = {'kaja': 'maj', 'maid': 'wolf'}\n",
    "\n",
    "# combine these dictioneries so there are no multiple elements. c = {**a, **b}\n",
    "\n"
   ]
  },
  {
   "cell_type": "code",
   "execution_count": null,
   "id": "49b4a9bc",
   "metadata": {},
   "outputs": [],
   "source": [
    "a = [1, 2, 3]\n",
    "\n",
    "# add all elements together. sum(a)\n",
    "\n"
   ]
  },
  {
   "cell_type": "code",
   "execution_count": null,
   "id": "c365cecc",
   "metadata": {},
   "outputs": [],
   "source": [
    "a = [1, 0, 1, 2, 0, 2, 1, 1, 3, 2, 2, 0, 2, 1]\n",
    "\n",
    "# remove all duplicate elements from this list. a = list(set(a))\n",
    "\n"
   ]
  },
  {
   "cell_type": "code",
   "execution_count": null,
   "id": "12c3c934",
   "metadata": {},
   "outputs": [],
   "source": [
    "# do somethink so the numbers will be alongside each other. print(i, end=\"\")\n",
    "\n",
    "for i in range(11):\n",
    "    print(i)"
   ]
  },
  {
   "cell_type": "code",
   "execution_count": null,
   "id": "450d3d1f",
   "metadata": {},
   "outputs": [],
   "source": [
    "a = \"Hello\"\n",
    "b = \" World\"\n",
    "\n",
    "# add these 2 strings together. print(a + b)\n",
    "\n"
   ]
  },
  {
   "cell_type": "code",
   "execution_count": null,
   "id": "d53f068a",
   "metadata": {},
   "outputs": [],
   "source": [
    "# in one line create a = 1 and b = 2. a, b = 1, 2\n",
    "\n"
   ]
  },
  {
   "cell_type": "code",
   "execution_count": null,
   "id": "419fc276",
   "metadata": {},
   "outputs": [],
   "source": [
    "# what number represents \"G\" in ASCII. ord(\"G\")\n",
    "\n"
   ]
  },
  {
   "cell_type": "code",
   "execution_count": null,
   "id": "27479147",
   "metadata": {},
   "outputs": [],
   "source": [
    "# what ASCII character represents number 80. chr(80)\n",
    "\n"
   ]
  },
  {
   "cell_type": "code",
   "execution_count": null,
   "id": "dde7bf38",
   "metadata": {},
   "outputs": [],
   "source": [
    "a = [5, 4, 7, 66, 2]\n",
    "\n",
    "# using this list get inddex of number 66. a.index(66)\n",
    "\n"
   ]
  }
 ],
 "metadata": {
  "kernelspec": {
   "display_name": "Python 3",
   "language": "python",
   "name": "python3"
  },
  "language_info": {
   "codemirror_mode": {
    "name": "ipython",
    "version": 3
   },
   "file_extension": ".py",
   "mimetype": "text/x-python",
   "name": "python",
   "nbconvert_exporter": "python",
   "pygments_lexer": "ipython3",
   "version": "3.8.8"
  }
 },
 "nbformat": 4,
 "nbformat_minor": 5
}
