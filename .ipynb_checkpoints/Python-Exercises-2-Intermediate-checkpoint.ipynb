{
 "cells": [
  {
   "cell_type": "markdown",
   "id": "0bdffab8",
   "metadata": {},
   "source": [
    "### This notebook mainly contains exercises of:\n",
    "- build in functions\n",
    "- data types methods"
   ]
  },
  {
   "cell_type": "code",
   "execution_count": null,
   "id": "188c1e04",
   "metadata": {},
   "outputs": [],
   "source": [
    "a = [\"I\", \"am\", \"Ricardo\", \"Biden\"]\n",
    "\n",
    "# change this list into string.                                                                                                                           \" \".join(a)\n",
    "\n"
   ]
  },
  {
   "cell_type": "code",
   "execution_count": null,
   "id": "61ebb98c",
   "metadata": {},
   "outputs": [],
   "source": [
    "a = \"I am Ricardo Biden\"\n",
    "\n",
    "# change this string into list.                                                                                                                           a.split(\" \")\n",
    "\n"
   ]
  },
  {
   "cell_type": "code",
   "execution_count": null,
   "id": "fd281e98",
   "metadata": {},
   "outputs": [],
   "source": [
    "a = \" 12o  \"\n",
    "\n",
    "# find on what index \"o\" is located.                                                                                                                       a.find(\"o\")\n",
    "\n"
   ]
  },
  {
   "cell_type": "code",
   "execution_count": null,
   "id": "6579e401",
   "metadata": {},
   "outputs": [],
   "source": [
    "a = \"    hello word     \"\n",
    "\n",
    "# get rid of all starting and ending spaces in this string.                                                                                                   a.strip()\n",
    "\n"
   ]
  },
  {
   "cell_type": "code",
   "execution_count": null,
   "id": "84c3c81e",
   "metadata": {
    "scrolled": true
   },
   "outputs": [],
   "source": [
    "a = [2, 6, 1, 8, 2, -8, 9, -20, 12, 1]\n",
    "\n",
    "# sort this list.                                                                                                                                             a.sort()\n",
    "\n"
   ]
  },
  {
   "cell_type": "code",
   "execution_count": null,
   "id": "a14adcff",
   "metadata": {},
   "outputs": [],
   "source": [
    "a = [2, 6, 1, 8, 2, -8, 9, -20, 12, 1]\n",
    "\n",
    "# sort this list in descending order.                                                                                                                         a.sort(reverse=True)\n",
    "\n"
   ]
  },
  {
   "cell_type": "code",
   "execution_count": null,
   "id": "ccf7dc76",
   "metadata": {},
   "outputs": [],
   "source": [
    "a = [\"Zumbana\", 'Christine', 'John', 'Maja', \"Alicja\"]\n",
    "\n",
    "# sort this list in alphabetical order.                                                                                                                       a.sort()\n",
    "\n"
   ]
  },
  {
   "cell_type": "code",
   "execution_count": null,
   "id": "684cd9fa",
   "metadata": {},
   "outputs": [],
   "source": [
    "a = [\"Zumbana\", 'Christine', 'John', 'Maja', \"Alicja\"]\n",
    "\n",
    "# using for loop display index of an item alongside item.                                                                                                   for index, item in enumerate(a): print(f\"index = item\") # you can change index on which counting starts, using start= inside enumerate.\n",
    "\n"
   ]
  },
  {
   "cell_type": "code",
   "execution_count": null,
   "id": "fa2833db",
   "metadata": {},
   "outputs": [],
   "source": [
    "a = [\"Zumbana\", 'Christine', 'John', 'Maja', \"Alicja\"]\n",
    "b = [\"dog\", \"cat\", \"mouse\", \"bird\"]\n",
    "\n",
    "# using for loop display items from list 'a' alongside items from 'b'.                                                                                       for x, y in zip(a,b): print(x) #you can also create one variable out of it and it will create tuple containing both elements\n",
    "\n"
   ]
  },
  {
   "cell_type": "code",
   "execution_count": null,
   "id": "a66fa4df",
   "metadata": {},
   "outputs": [],
   "source": [
    "keys = [\"a\", \"b\", \"c\", \"d\", \"e\"]\n",
    "\n",
    "# convert list 'a' into dictionary using numbers in list as keys. dict.fromkeys(keys)\n",
    "\n"
   ]
  },
  {
   "cell_type": "code",
   "execution_count": null,
   "id": "3f8b019d",
   "metadata": {},
   "outputs": [],
   "source": [
    "# check documentation of sum function. sum.__doc__"
   ]
  },
  {
   "cell_type": "code",
   "execution_count": null,
   "id": "8251d700",
   "metadata": {},
   "outputs": [],
   "source": [
    "a = [1, 2, 3]\n",
    "\n",
    "# using unpacking create new variables: a = 1 and b = [2, 3]. a, *b = a\n",
    "\n"
   ]
  },
  {
   "cell_type": "code",
   "execution_count": null,
   "id": "817256b6",
   "metadata": {},
   "outputs": [],
   "source": []
  }
 ],
 "metadata": {
  "kernelspec": {
   "display_name": "Python 3",
   "language": "python",
   "name": "python3"
  },
  "language_info": {
   "codemirror_mode": {
    "name": "ipython",
    "version": 3
   },
   "file_extension": ".py",
   "mimetype": "text/x-python",
   "name": "python",
   "nbconvert_exporter": "python",
   "pygments_lexer": "ipython3",
   "version": "3.8.8"
  }
 },
 "nbformat": 4,
 "nbformat_minor": 5
}
