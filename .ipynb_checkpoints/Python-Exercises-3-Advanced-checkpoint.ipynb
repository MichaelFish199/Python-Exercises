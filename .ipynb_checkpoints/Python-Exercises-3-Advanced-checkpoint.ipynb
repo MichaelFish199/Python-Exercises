{
 "cells": [
  {
   "cell_type": "markdown",
   "id": "2e550fc3",
   "metadata": {},
   "source": [
    "### This notebook mainly contains exercises of:\n",
    "- lambda functions\n",
    "- normal function\n",
    "- build in functions"
   ]
  },
  {
   "cell_type": "code",
   "execution_count": null,
   "id": "a1b615ed",
   "metadata": {},
   "outputs": [],
   "source": [
    "a = [1, 1, 6, 6, 5, 1, 1]\n",
    "\n",
    "# using lambda multiply all numbers by 2.                                                                                                        func = list(map(lambda x: x + 2, a))\n",
    "\n"
   ]
  },
  {
   "cell_type": "code",
   "execution_count": null,
   "id": "95d24810",
   "metadata": {},
   "outputs": [],
   "source": [
    "a = [{\"name\": 'micheal','age': 23}, {\"name\": 'maja', 'age': 17}, {\"name\": 'justin', 'age': 21}]\n",
    "\n",
    "# sort this list by \"age\" keys in dictionaries. a = sorted(a, key=lambda x: x['age'])\n",
    "\n"
   ]
  },
  {
   "cell_type": "code",
   "execution_count": null,
   "id": "5789f4e6",
   "metadata": {},
   "outputs": [],
   "source": [
    "# use turneiry conditional in this function. return 1 if x > 0 else 0 \n",
    "\n",
    "def foo(x):\n",
    "    if x > 0:\n",
    "        return 1\n",
    "    else:\n",
    "        return 0"
   ]
  },
  {
   "cell_type": "code",
   "execution_count": null,
   "id": "efcae82c",
   "metadata": {},
   "outputs": [],
   "source": [
    "def foo(a, b, c):\n",
    "    print(sum([a,b,c]))\n",
    "    \n",
    "data = {'a': 2, 'b': 3, 'c': 4}  #pass this dictionary to created function. print(foo(**data))\n",
    "\n"
   ]
  },
  {
   "cell_type": "code",
   "execution_count": 10,
   "id": "419643c8",
   "metadata": {},
   "outputs": [
    {
     "data": {
      "text/plain": [
       "[['N', 0], ['I', 1], ['C', 2], ['E', 3], ['E', 4], ['E', 5]]"
      ]
     },
     "execution_count": 10,
     "metadata": {},
     "output_type": "execute_result"
    }
   ],
   "source": [
    "a = [['E',5],['E',3],['C',2],['N',0],['I',1],['E',4]]\n",
    "\n",
    "# sort this list by 2nd element in nested lists. a.sort(key=lambda x: x[1])\n",
    "\n"
   ]
  },
  {
   "cell_type": "code",
   "execution_count": null,
   "id": "52b5b253",
   "metadata": {},
   "outputs": [],
   "source": []
  }
 ],
 "metadata": {
  "kernelspec": {
   "display_name": "Python 3",
   "language": "python",
   "name": "python3"
  },
  "language_info": {
   "codemirror_mode": {
    "name": "ipython",
    "version": 3
   },
   "file_extension": ".py",
   "mimetype": "text/x-python",
   "name": "python",
   "nbconvert_exporter": "python",
   "pygments_lexer": "ipython3",
   "version": "3.8.8"
  }
 },
 "nbformat": 4,
 "nbformat_minor": 5
}
