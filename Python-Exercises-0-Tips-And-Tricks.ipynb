{
 "cells": [
  {
   "cell_type": "code",
   "execution_count": null,
   "id": "e94bc55c",
   "metadata": {},
   "outputs": [],
   "source": [
    "for i in range(108): # you can display text in diffrent collors and formats\n",
    "    print(f\"\\033[{i}mTHIS IS TEXT\")"
   ]
  },
  {
   "cell_type": "code",
   "execution_count": null,
   "id": "b61220c7",
   "metadata": {},
   "outputs": [],
   "source": [
    "a = (4, 2, 5)\n",
    "b = (1, 2, 3)\n",
    "\n",
    "a, b = b, a # you can swap variabels like this"
   ]
  },
  {
   "cell_type": "code",
   "execution_count": null,
   "id": "f7ed94a2",
   "metadata": {},
   "outputs": [],
   "source": [
    "x = 1_000_000_000 # you can add underscores to big numbers so they are easier to read in 'code'"
   ]
  },
  {
   "cell_type": "code",
   "execution_count": null,
   "id": "8c2a755a",
   "metadata": {},
   "outputs": [],
   "source": [
    "x = 1000000000\n",
    "\n",
    "print(f\"{x:_}\") # using string formating you can make number easier to read while displaying\n",
    "print(f\"{x:,}\")"
   ]
  },
  {
   "cell_type": "code",
   "execution_count": null,
   "id": "f2b56ee5",
   "metadata": {},
   "outputs": [],
   "source": [
    "for _ in range(10): # by convention use '_' for variables that you are not gonna use.\n",
    "    print(\"HELLO\")"
   ]
  },
  {
   "cell_type": "code",
   "execution_count": null,
   "id": "f2dc8615",
   "metadata": {},
   "outputs": [],
   "source": [
    "\"\"\" you can perform logical gates operations using:\n",
    "\n",
    "& - AND\n",
    "~ - NOT\n",
    "| - OR\n",
    "^ - XOR\n",
    "\n",
    "\"\"\";"
   ]
  },
  {
   "cell_type": "code",
   "execution_count": null,
   "id": "bc821e23",
   "metadata": {},
   "outputs": [],
   "source": [
    "print([0] * 5) # you can multiply list with a number to create copies\n",
    "print([[0,1]] * 5)"
   ]
  },
  {
   "cell_type": "code",
   "execution_count": null,
   "id": "ee6aff00",
   "metadata": {},
   "outputs": [],
   "source": [
    "num = 45.234999998999\n",
    "\n",
    "print(format(num, \".3f\")) #using formating you can round numbers\n",
    "print(f\"{num:.3f}\")"
   ]
  },
  {
   "cell_type": "code",
   "execution_count": null,
   "id": "a340c550",
   "metadata": {},
   "outputs": [],
   "source": []
  }
 ],
 "metadata": {
  "kernelspec": {
   "display_name": "Python 3",
   "language": "python",
   "name": "python3"
  },
  "language_info": {
   "codemirror_mode": {
    "name": "ipython",
    "version": 3
   },
   "file_extension": ".py",
   "mimetype": "text/x-python",
   "name": "python",
   "nbconvert_exporter": "python",
   "pygments_lexer": "ipython3",
   "version": "3.8.8"
  }
 },
 "nbformat": 4,
 "nbformat_minor": 5
}
