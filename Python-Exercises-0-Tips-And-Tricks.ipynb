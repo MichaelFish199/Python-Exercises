{
 "cells": [
  {
   "cell_type": "code",
   "execution_count": null,
   "id": "e94bc55c",
   "metadata": {},
   "outputs": [],
   "source": [
    "for i in range(108): # you can display text in diffrent collors and formats\n",
    "    print(f\"\\033[{i}mTHIS IS TEXT\")"
   ]
  },
  {
   "cell_type": "code",
   "execution_count": null,
   "id": "b61220c7",
   "metadata": {},
   "outputs": [],
   "source": [
    "a = (4, 2, 5)\n",
    "b = (1, 2, 3)\n",
    "\n",
    "#swap tuples so x will be (1, 2, 3)\t\t\t\t\t\t\t\t\t\t\t\t\t\t\t\t\t\t\t\t\t\t\t\t\t\t\t            x, y = y, x\n",
    "\n"
   ]
  },
  {
   "cell_type": "code",
   "execution_count": null,
   "id": "f7ed94a2",
   "metadata": {},
   "outputs": [],
   "source": []
  }
 ],
 "metadata": {
  "kernelspec": {
   "display_name": "Python 3",
   "language": "python",
   "name": "python3"
  },
  "language_info": {
   "codemirror_mode": {
    "name": "ipython",
    "version": 3
   },
   "file_extension": ".py",
   "mimetype": "text/x-python",
   "name": "python",
   "nbconvert_exporter": "python",
   "pygments_lexer": "ipython3",
   "version": "3.8.8"
  }
 },
 "nbformat": 4,
 "nbformat_minor": 5
}
