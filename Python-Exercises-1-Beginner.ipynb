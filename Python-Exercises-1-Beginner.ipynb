{
 "cells": [
  {
   "cell_type": "markdown",
   "id": "66446966",
   "metadata": {},
   "source": [
    "### This notebook mainly contains exercises of:\n",
    "- build in functions\n",
    "- data types methods"
   ]
  },
  {
   "cell_type": "code",
   "execution_count": null,
   "id": "162268bf",
   "metadata": {},
   "outputs": [],
   "source": [
    "a = \"This is text\"\n",
    "\n",
    "# display this string.                                                                                                                                             Print(a) or a\n",
    "\n"
   ]
  },
  {
   "cell_type": "code",
   "execution_count": null,
   "id": "35e651e2",
   "metadata": {},
   "outputs": [],
   "source": [
    "a = [\"dog\", \"cat\", \"mouse\", \"bird\"]\n",
    "\n",
    "# get first element of this list.                                                                                                                                             a[0]\n",
    "\n"
   ]
  },
  {
   "cell_type": "code",
   "execution_count": null,
   "id": "42d69789",
   "metadata": {},
   "outputs": [],
   "source": [
    "a = \"Hello world\"\n",
    "\n",
    "# turn this string into set.                                                                                                                                             set(a)\n",
    "\n"
   ]
  },
  {
   "cell_type": "code",
   "execution_count": null,
   "id": "b25033ad",
   "metadata": {},
   "outputs": [],
   "source": [
    "a = [1, 1, 6, 6, 5, 1, 1]\n",
    "\n",
    "# using this list get 3 elements in the middle [6, 6, 5].                                                                                                   a[2:5]\n",
    "\n"
   ]
  },
  {
   "cell_type": "code",
   "execution_count": null,
   "id": "3d9806e6",
   "metadata": {},
   "outputs": [],
   "source": [
    "a = [\"dog\", \"cat\", \"mouse\", \"bird\"]\n",
    "\n",
    "# replace element at index 1 into \"catto\".                                                                                                                  a[1] = \"catto\"\n",
    "\n"
   ]
  },
  {
   "cell_type": "code",
   "execution_count": null,
   "id": "f8baf9cf",
   "metadata": {},
   "outputs": [],
   "source": [
    "a = [1, 1, 6, 6, 5, 1, 1]\n",
    "\n",
    "# copy this list into \"b\" variable.                                                                                                                         b = a.copy #its not the same as a = b\n",
    "\n"
   ]
  },
  {
   "cell_type": "code",
   "execution_count": null,
   "id": "1ac657d8",
   "metadata": {},
   "outputs": [],
   "source": [
    "# create list containing numbers from 0 to 50.                                                                                                              a = list(range(50))\n",
    "\n"
   ]
  },
  {
   "cell_type": "code",
   "execution_count": null,
   "id": "7517d946",
   "metadata": {},
   "outputs": [],
   "source": [
    "a = [2, 6, 1, 8, 2, -8, 9, -20, 12, 1]\n",
    "\n",
    "# get the smalles value in the list.                                                                                                                        min(a)\n",
    "\n"
   ]
  },
  {
   "cell_type": "code",
   "execution_count": null,
   "id": "ab3190fd",
   "metadata": {},
   "outputs": [],
   "source": [
    "a = [2, 6, 1, 8, 2, -8, 9, -20, 12, 1]\n",
    "\n",
    "# get the largest value in the list.                                                                                                                         max(a)\n",
    "\n"
   ]
  },
  {
   "cell_type": "code",
   "execution_count": null,
   "id": "ba741bf2",
   "metadata": {},
   "outputs": [],
   "source": [
    "a = {\"brand\": \"Ford\", 'kaja': 'maj'}\n",
    "b = {'kaja': 'maj', 'maid': 'wolf'}\n",
    "\n",
    "# combine these dictioneries so there are no multiple elements.                                                                                             c = {**a, **b} or c = a | b \n",
    "\n"
   ]
  },
  {
   "cell_type": "code",
   "execution_count": null,
   "id": "49b4a9bc",
   "metadata": {},
   "outputs": [],
   "source": [
    "a = [1, 2, 3]\n",
    "\n",
    "# add all elements together.                                                                                                                                sum(a)\n",
    "\n"
   ]
  },
  {
   "cell_type": "code",
   "execution_count": null,
   "id": "c365cecc",
   "metadata": {},
   "outputs": [],
   "source": [
    "a = [1, 0, 1, 2, 0, 2, 1, 1, 3, 2, 2, 0, 2, 1]\n",
    "\n",
    "# remove all duplicate elements from this list.                                                                                                             a = list(set(a))\n",
    "\n"
   ]
  },
  {
   "cell_type": "code",
   "execution_count": null,
   "id": "12c3c934",
   "metadata": {},
   "outputs": [],
   "source": [
    "# do somethink so the numbers will be alongside each other.                                                                                                 print(i, end=\"\")\n",
    "\n",
    "for i in range(11):\n",
    "    print(i)"
   ]
  },
  {
   "cell_type": "code",
   "execution_count": null,
   "id": "450d3d1f",
   "metadata": {},
   "outputs": [],
   "source": [
    "a = \"Hello\"\n",
    "b = \" World\"\n",
    "\n",
    "# add these 2 strings together.                                                                                                                             print(a + b)\n",
    "\n"
   ]
  },
  {
   "cell_type": "code",
   "execution_count": null,
   "id": "d53f068a",
   "metadata": {},
   "outputs": [],
   "source": [
    "# in one line create a = 1 and b = 2.                                                                                                                       a, b = 1, 2\n",
    "\n"
   ]
  },
  {
   "cell_type": "code",
   "execution_count": null,
   "id": "419fc276",
   "metadata": {},
   "outputs": [],
   "source": [
    "# what number represents \"G\" in ASCII.                                                                                                                      ord(\"G\")\n",
    "\n"
   ]
  },
  {
   "cell_type": "code",
   "execution_count": null,
   "id": "27479147",
   "metadata": {},
   "outputs": [],
   "source": [
    "# what ASCII character represents number 80.                                                                                                                chr(80)\n",
    "\n"
   ]
  },
  {
   "cell_type": "code",
   "execution_count": 5,
   "id": "4c814640",
   "metadata": {},
   "outputs": [
    {
     "data": {
      "text/plain": [
       "[1, 2, 3, 4]"
      ]
     },
     "execution_count": 5,
     "metadata": {},
     "output_type": "execute_result"
    }
   ],
   "source": [
    "a = [1, 2]\n",
    "b = (3, 4)\n",
    "\n",
    "# create new list containing elements from both containers using unpacking.                                                                                 c = [*a, *b]\n",
    "\n"
   ]
  },
  {
   "cell_type": "code",
   "execution_count": null,
   "id": "dde7bf38",
   "metadata": {},
   "outputs": [],
   "source": [
    "a = [5, 4, 7, 66, 2]\n",
    "\n",
    "# using this list get inddex of number 66.                                                                                                                  a.index(66)\n",
    "\n"
   ]
  },
  {
   "cell_type": "code",
   "execution_count": null,
   "id": "fe7f5586",
   "metadata": {},
   "outputs": [],
   "source": [
    "a = [[[1,2],[3,4]],[[1,2],[3,4]]]\n",
    "\n",
    "# using for loops display all elements of this list. for i in list:   for j in i:   for k in j:\n",
    "\n"
   ]
  },
  {
   "cell_type": "code",
   "execution_count": null,
   "id": "4de47b9b",
   "metadata": {},
   "outputs": [],
   "source": [
    "a = ['cat', 'dog', 'cat', 'dog'] \n",
    "\n",
    "# delete cat from this list. a.remove('cat')\n",
    "\n"
   ]
  },
  {
   "cell_type": "code",
   "execution_count": null,
   "id": "3fa6f4d8",
   "metadata": {},
   "outputs": [],
   "source": [
    "# sum numbers from [0 to 100]. sum(range(101))"
   ]
  },
  {
   "cell_type": "code",
   "execution_count": 3,
   "id": "19c5afa1",
   "metadata": {},
   "outputs": [
    {
     "data": {
      "text/plain": [
       "[1, 2, 66, 5, 6, 7, 8]"
      ]
     },
     "execution_count": 3,
     "metadata": {},
     "output_type": "execute_result"
    }
   ],
   "source": [
    "a = \"[1,2,66,5,6,7,8]\"\n",
    "\n",
    "# turn this string into list. a = eval(a)\n",
    "\n"
   ]
  },
  {
   "cell_type": "code",
   "execution_count": null,
   "id": "f9fe7089",
   "metadata": {},
   "outputs": [],
   "source": [
    "a = [1, 2]\n",
    "\n",
    "# display memory adress of this list. id(a)\n",
    "\n"
   ]
  },
  {
   "cell_type": "code",
   "execution_count": 6,
   "id": "b4ed42ac",
   "metadata": {},
   "outputs": [
    {
     "data": {
      "text/plain": [
       "True"
      ]
     },
     "execution_count": 6,
     "metadata": {},
     "output_type": "execute_result"
    }
   ],
   "source": [
    "a = 2\n",
    "b = 2\n",
    "\n",
    "# check if numbers are in the same memory adress. a is b\n",
    "\n"
   ]
  },
  {
   "cell_type": "code",
   "execution_count": 8,
   "id": "8797a8b5",
   "metadata": {},
   "outputs": [
    {
     "data": {
      "text/plain": [
       "(10+1j)"
      ]
     },
     "execution_count": 8,
     "metadata": {},
     "output_type": "execute_result"
    }
   ],
   "source": [
    "# create a complex number with real part = 10 and imaginary part = 3. complex(10, 3) or 10+3j\n",
    "\n"
   ]
  },
  {
   "cell_type": "code",
   "execution_count": 13,
   "id": "196a32f6",
   "metadata": {},
   "outputs": [
    {
     "data": {
      "text/plain": [
       "'0b1121'"
      ]
     },
     "execution_count": 13,
     "metadata": {},
     "output_type": "execute_result"
    }
   ],
   "source": [
    "# represent number 15 in binary system. bin(15)\n",
    "\n"
   ]
  },
  {
   "cell_type": "code",
   "execution_count": 14,
   "id": "5d4e49e0",
   "metadata": {},
   "outputs": [
    {
     "data": {
      "text/plain": [
       "'0o17'"
      ]
     },
     "execution_count": 14,
     "metadata": {},
     "output_type": "execute_result"
    }
   ],
   "source": [
    "# represent number 15 in octal system. oct(15)\n",
    "\n"
   ]
  },
  {
   "cell_type": "code",
   "execution_count": null,
   "id": "b039b15b",
   "metadata": {},
   "outputs": [],
   "source": [
    "# represent number 15 in hexadecimal system. hex(15)\n",
    "\n"
   ]
  }
 ],
 "metadata": {
  "kernelspec": {
   "display_name": "Python 3 (ipykernel)",
   "language": "python",
   "name": "python3"
  },
  "language_info": {
   "codemirror_mode": {
    "name": "ipython",
    "version": 3
   },
   "file_extension": ".py",
   "mimetype": "text/x-python",
   "name": "python",
   "nbconvert_exporter": "python",
   "pygments_lexer": "ipython3",
   "version": "3.9.7"
  }
 },
 "nbformat": 4,
 "nbformat_minor": 5
}
