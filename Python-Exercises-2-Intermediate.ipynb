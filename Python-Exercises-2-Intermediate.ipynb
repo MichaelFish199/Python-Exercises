{
 "cells": [
  {
   "cell_type": "markdown",
   "id": "0bdffab8",
   "metadata": {},
   "source": [
    "### This notebook mainly contains exercises of:\n",
    "- build in functions\n",
    "- data types methods"
   ]
  },
  {
   "cell_type": "code",
   "execution_count": null,
   "id": "188c1e04",
   "metadata": {},
   "outputs": [],
   "source": [
    "a = [\"I\", \"am\", \"Ricardo\", \"Biden\"]\n",
    "\n",
    "# change this list into string.                                                                                                                           \" \".join(a)\n",
    "\n",
    "a"
   ]
  },
  {
   "cell_type": "code",
   "execution_count": null,
   "id": "61ebb98c",
   "metadata": {},
   "outputs": [],
   "source": [
    "a = \"I am Ricardo Biden\"\n",
    "\n",
    "# change this string into list.                                                                                                                           a.split(\" \")\n",
    "\n"
   ]
  },
  {
   "cell_type": "code",
   "execution_count": null,
   "id": "fd281e98",
   "metadata": {},
   "outputs": [],
   "source": [
    "a = \" 12o  \"\n",
    "\n",
    "# find on what index \"o\" is located.                                                                                                                       a.find(\"o\")\n",
    "\n"
   ]
  },
  {
   "cell_type": "code",
   "execution_count": null,
   "id": "6579e401",
   "metadata": {},
   "outputs": [],
   "source": [
    "a = \"    hello word     \"\n",
    "\n",
    "# get rid of all starting and ending spaces in this string.                                                                                                   a.strip()\n",
    "\n"
   ]
  },
  {
   "cell_type": "code",
   "execution_count": null,
   "id": "84c3c81e",
   "metadata": {
    "scrolled": true
   },
   "outputs": [],
   "source": [
    "a = [2, 6, 1, 8, 2, -8, 9, -20, 12, 1]\n",
    "\n",
    "# sort this list.                                                                                                                                             a.sort()\n",
    "\n"
   ]
  },
  {
   "cell_type": "code",
   "execution_count": null,
   "id": "a14adcff",
   "metadata": {},
   "outputs": [],
   "source": [
    "a = [2, 6, 1, 8, 2, -8, 9, -20, 12, 1]\n",
    "\n",
    "# sort this list in descending order.                                                                                                                         a.sort(reverse=True)\n",
    "\n"
   ]
  },
  {
   "cell_type": "code",
   "execution_count": null,
   "id": "ccf7dc76",
   "metadata": {},
   "outputs": [],
   "source": [
    "a = [\"Zumbana\", 'Christine', 'John', 'Maja', \"Alicja\"]\n",
    "\n",
    "# sort this list in alphabetical order.                                                                                                                       a.sort()\n",
    "\n"
   ]
  },
  {
   "cell_type": "code",
   "execution_count": null,
   "id": "684cd9fa",
   "metadata": {},
   "outputs": [],
   "source": [
    "a = [\"Zumbana\", 'Christine', 'John', 'Maja', \"Alicja\"]\n",
    "\n",
    "# using for loop display index of an item alongside item.                                                                                                   for index, item in enumerate(a): print(f\"index = item\") # you can change index on which counting starts, using start= inside enumerate.\n",
    "\n"
   ]
  },
  {
   "cell_type": "code",
   "execution_count": null,
   "id": "fa2833db",
   "metadata": {},
   "outputs": [],
   "source": [
    "a = [\"Zumbana\", 'Christine', 'John', 'Maja', \"Alicja\"]\n",
    "b = [\"dog\", \"cat\", \"mouse\", \"bird\"]\n",
    "\n",
    "# using for loop display items from list 'a' alongside items from 'b'.                                                                                       for x, y in zip(a,b): print(x) #you can also create one variable out of it and it will create tuple containing both elements\n",
    "\n"
   ]
  },
  {
   "cell_type": "code",
   "execution_count": null,
   "id": "a66fa4df",
   "metadata": {},
   "outputs": [],
   "source": [
    "keys = [\"a\", \"b\", \"c\", \"d\", \"e\"]\n",
    "\n",
    "# convert list 'a' into dictionary using numbers in list as keys.                                                                                               dict.fromkeys(keys)\n",
    "\n"
   ]
  },
  {
   "cell_type": "code",
   "execution_count": null,
   "id": "3f8b019d",
   "metadata": {},
   "outputs": [],
   "source": [
    "# check documentation of sum function.                                                                                                                                             sum.__doc__"
   ]
  },
  {
   "cell_type": "code",
   "execution_count": null,
   "id": "8251d700",
   "metadata": {},
   "outputs": [],
   "source": [
    "a = [1, 2, 3]\n",
    "\n",
    "# using unpacking create new variables: a = 1 and b = [2, 3].                                                                                               a, *b = a\n",
    "\n"
   ]
  },
  {
   "cell_type": "code",
   "execution_count": 2,
   "id": "817256b6",
   "metadata": {},
   "outputs": [
    {
     "data": {
      "text/plain": [
       "11"
      ]
     },
     "execution_count": 2,
     "metadata": {},
     "output_type": "execute_result"
    }
   ],
   "source": [
    "a = \"efsjsfilalibabaiewuori3\"\n",
    "\n",
    "# in this string check on what index word \"baba\" is. a.find('baba')\n",
    "\n"
   ]
  },
  {
   "cell_type": "code",
   "execution_count": 2,
   "id": "7de4f29d",
   "metadata": {},
   "outputs": [
    {
     "data": {
      "text/plain": [
       "[1, 3, 5, 7, 10, 20, 30]"
      ]
     },
     "execution_count": 2,
     "metadata": {},
     "output_type": "execute_result"
    }
   ],
   "source": [
    "a = [1, 3, 5, 7]\n",
    "b = [10, 20, 30]\n",
    "\n",
    "# at the end of list a add elements from list b. a.extend(b)\n",
    "\n"
   ]
  },
  {
   "cell_type": "code",
   "execution_count": 2,
   "id": "8127086d",
   "metadata": {},
   "outputs": [
    {
     "data": {
      "text/plain": [
       "4"
      ]
     },
     "execution_count": 2,
     "metadata": {},
     "output_type": "execute_result"
    }
   ],
   "source": [
    "a = (1, 2, 43, True, 'dog')\n",
    "\n",
    "#check on what index 'dog' is located. a.index('dog')\n",
    "\n"
   ]
  },
  {
   "cell_type": "code",
   "execution_count": 3,
   "id": "de7adbf1",
   "metadata": {},
   "outputs": [
    {
     "data": {
      "text/plain": [
       "7"
      ]
     },
     "execution_count": 3,
     "metadata": {},
     "output_type": "execute_result"
    }
   ],
   "source": [
    "a = ('dog', 'cat', 'dog', 'cat', 'dog', 'cat', 'dog', 'cat', 'dog', 'cat', 'dog', 'cat', 'dog', 'cat')\n",
    "\n",
    "# count how many dogs are there in this tuple. a.count('dog')\n",
    "\n"
   ]
  },
  {
   "cell_type": "markdown",
   "id": "231c0442",
   "metadata": {},
   "source": [
    "# SET"
   ]
  },
  {
   "cell_type": "code",
   "execution_count": 11,
   "id": "9d285d8b",
   "metadata": {},
   "outputs": [
    {
     "data": {
      "text/plain": [
       "{}"
      ]
     },
     "execution_count": 11,
     "metadata": {},
     "output_type": "execute_result"
    }
   ],
   "source": [
    "# create an empty set. a = set()\n",
    "\n"
   ]
  },
  {
   "cell_type": "code",
   "execution_count": 25,
   "id": "d2169893",
   "metadata": {},
   "outputs": [],
   "source": [
    "a = {1, 2}\n",
    "\n",
    "# add number 13 to this set a.add(13\n",
    "\n"
   ]
  },
  {
   "cell_type": "code",
   "execution_count": 28,
   "id": "f71fb017",
   "metadata": {},
   "outputs": [
    {
     "data": {
      "text/plain": [
       "{11, 12, 23, 'Basia', True, 'malina'}"
      ]
     },
     "execution_count": 28,
     "metadata": {},
     "output_type": "execute_result"
    }
   ],
   "source": [
    "a = {12, 11}\n",
    "b = {'malina', 23, 'Basia', True}\n",
    "\n",
    "# add both sets together. a.union(b)  or  a | b\n",
    "\n"
   ]
  },
  {
   "cell_type": "markdown",
   "id": "fecaea2b",
   "metadata": {},
   "source": [
    "# DICT"
   ]
  },
  {
   "cell_type": "code",
   "execution_count": 3,
   "id": "4bf5937b",
   "metadata": {},
   "outputs": [
    {
     "data": {
      "text/plain": [
       "{'adress': '2203', 'country': 'USA'}"
      ]
     },
     "execution_count": 3,
     "metadata": {},
     "output_type": "execute_result"
    }
   ],
   "source": [
    "a = {\"adress\": \"2203\"}\n",
    "\n",
    "# add new element to this dict with key being country and value being USA. a[\"country\"] = \"USA\"\n",
    "\n"
   ]
  },
  {
   "cell_type": "code",
   "execution_count": 1,
   "id": "90101e39",
   "metadata": {},
   "outputs": [
    {
     "data": {
      "text/plain": [
       "dict_keys(['brand', 'electric', 'year', 'colors'])"
      ]
     },
     "execution_count": 1,
     "metadata": {},
     "output_type": "execute_result"
    }
   ],
   "source": [
    "a = {\"brand\": \"Ford\", \"electric\": False, \"year\": 1964,\"colors\": [\"red\", \"white\", \"blue\"]}\n",
    "\n",
    "# get all keys from this dict. a.keys()\n",
    "\n"
   ]
  },
  {
   "cell_type": "code",
   "execution_count": null,
   "id": "ffa82874",
   "metadata": {},
   "outputs": [],
   "source": [
    "a = {\"brand\": \"Ford\", \"electric\": False, \"year\": 1964,\"colors\": [\"red\", \"white\", \"blue\"]}\n",
    "\n",
    "# get all values from this dict. a.items()\n",
    "\n"
   ]
  },
  {
   "cell_type": "code",
   "execution_count": 1,
   "id": "fb3894ff",
   "metadata": {},
   "outputs": [
    {
     "data": {
      "text/plain": [
       "{}"
      ]
     },
     "execution_count": 1,
     "metadata": {},
     "output_type": "execute_result"
    }
   ],
   "source": [
    "a = {'kaja': 'maj', 'maid': 'wolf'}\n",
    "\n",
    "# clear this dict. a.clear()\n",
    "\n"
   ]
  },
  {
   "cell_type": "code",
   "execution_count": null,
   "id": "e8d556c6",
   "metadata": {},
   "outputs": [],
   "source": [
    "a = {\"brand\": \"Ford\", \"electric\": False, \"year\": 1964,\"colors\": [\"red\", \"white\", \"blue\"]}\n",
    "\n",
    "# remove last item from given dictionary. a.popitem()\n",
    "\n"
   ]
  },
  {
   "cell_type": "code",
   "execution_count": null,
   "id": "22c1796d",
   "metadata": {},
   "outputs": [],
   "source": [
    "# using fromkeys method create dict with keys from 0 to 9 and items being None. {}.fromkeys(range(10), None)"
   ]
  }
 ],
 "metadata": {
  "kernelspec": {
   "display_name": "Python 3",
   "language": "python",
   "name": "python3"
  },
  "language_info": {
   "codemirror_mode": {
    "name": "ipython",
    "version": 3
   },
   "file_extension": ".py",
   "mimetype": "text/x-python",
   "name": "python",
   "nbconvert_exporter": "python",
   "pygments_lexer": "ipython3",
   "version": "3.9.7"
  }
 },
 "nbformat": 4,
 "nbformat_minor": 5
}
