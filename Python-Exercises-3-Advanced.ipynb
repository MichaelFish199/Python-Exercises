{
 "cells": [
  {
   "cell_type": "markdown",
   "id": "2e550fc3",
   "metadata": {},
   "source": [
    "### This notebook mainly contains exercises of:\n",
    "- lambda functions\n",
    "- normal function\n",
    "- build in functions"
   ]
  },
  {
   "cell_type": "code",
   "execution_count": null,
   "id": "a1b615ed",
   "metadata": {},
   "outputs": [],
   "source": [
    "a = [1, 1, 6, 6, 5, 1, 1]\n",
    "\n",
    "# using lambda multiply all numbers by 2.                                                                                                                                             func = list(map(lambda x: x + 2, a))\n",
    "\n"
   ]
  },
  {
   "cell_type": "code",
   "execution_count": null,
   "id": "95d24810",
   "metadata": {},
   "outputs": [],
   "source": [
    "a = [{\"name\": 'micheal','age': 23}, {\"name\": 'maja', 'age': 17}, {\"name\": 'justin', 'age': 21}]\n",
    "\n",
    "# sort this list by \"age\" keys in dictionaries.                                                                                                             a = sorted(a, key=lambda x: x['age'])\n",
    "\n"
   ]
  },
  {
   "cell_type": "code",
   "execution_count": null,
   "id": "5789f4e6",
   "metadata": {},
   "outputs": [],
   "source": [
    "# use turneiry conditional in this function.                                                                                                                return 1 if x > 0 else 0 \n",
    "\n",
    "def foo(x):\n",
    "    if x > 0:\n",
    "        return 1\n",
    "    else:\n",
    "        return 0"
   ]
  },
  {
   "cell_type": "code",
   "execution_count": null,
   "id": "efcae82c",
   "metadata": {},
   "outputs": [],
   "source": [
    "def foo(a, b, c):\n",
    "    print(sum([a,b,c]))\n",
    "    \n",
    "data = {'a': 2, 'b': 3, 'c': 4}  #pass this dictionary to created function.                                                                                 print(foo(**data))\n",
    "\n"
   ]
  },
  {
   "cell_type": "code",
   "execution_count": 10,
   "id": "419643c8",
   "metadata": {},
   "outputs": [
    {
     "data": {
      "text/plain": [
       "[['N', 0], ['I', 1], ['C', 2], ['E', 3], ['E', 4], ['E', 5]]"
      ]
     },
     "execution_count": 10,
     "metadata": {},
     "output_type": "execute_result"
    }
   ],
   "source": [
    "a = [['E',5],['E',3],['C',2],['N',0],['I',1],['E',4]]\n",
    "\n",
    "# sort this list by 2nd element in nested lists.                                                                                                            a.sort(key=lambda x: x[1])\n",
    "\n"
   ]
  },
  {
   "cell_type": "code",
   "execution_count": 2,
   "id": "52b5b253",
   "metadata": {},
   "outputs": [
    {
     "data": {
      "text/plain": [
       "[[-1, 3], [1, 2], [2, 3], [4, 2], [3, 4], [4, 5]]"
      ]
     },
     "execution_count": 2,
     "metadata": {},
     "output_type": "execute_result"
    }
   ],
   "source": [
    "a = [[1,2],[3,4],[4,2],[-1,3],[4,5],[2,3]]\n",
    "\n",
    "# sort this list by the sum of both elements a.sort(key=lambda x: x[0] + x[1])\n",
    "\n"
   ]
  },
  {
   "cell_type": "code",
   "execution_count": 10,
   "id": "eec5032f",
   "metadata": {},
   "outputs": [
    {
     "data": {
      "text/plain": [
       "['dog', 'dog', 'wolf']"
      ]
     },
     "execution_count": 10,
     "metadata": {},
     "output_type": "execute_result"
    }
   ],
   "source": [
    "a = ['cat', 'dog', 'cat', 'dog', 'chicken', 'cat', 'wolf']\n",
    "\n",
    "#using list comprehension create new list that will not contain 'cat' and 'chicken'. b = [i for i in a if i not in ['cat', 'chicken']]\n",
    "\n"
   ]
  },
  {
   "cell_type": "code",
   "execution_count": 11,
   "id": "7b90343d",
   "metadata": {},
   "outputs": [
    {
     "data": {
      "text/plain": [
       "[[0, 0], [0, 0]]"
      ]
     },
     "execution_count": 11,
     "metadata": {},
     "output_type": "execute_result"
    }
   ],
   "source": [
    "a = [[1,2],[2,4]]\n",
    "\n",
    "# create new list, similar to given but every value must be replaced by 0. b = [[0 for i in a] for j in a]\n",
    "\n"
   ]
  },
  {
   "cell_type": "code",
   "execution_count": 8,
   "id": "34e89d32",
   "metadata": {},
   "outputs": [
    {
     "data": {
      "text/plain": [
       "1"
      ]
     },
     "execution_count": 8,
     "metadata": {},
     "output_type": "execute_result"
    }
   ],
   "source": [
    "a = [1,2,4,1,4,2,3,1,4,4,2,3,4,1,4,4,1,1,1,1]\n",
    "\n",
    "# check what is the most common item in this list. max(a ,key=a.count)\n",
    "\n"
   ]
  },
  {
   "cell_type": "code",
   "execution_count": 6,
   "id": "50b4f9bc",
   "metadata": {},
   "outputs": [
    {
     "data": {
      "text/plain": [
       "[{'a': 'Ford', 'model': 'Focus', 'year': 2012},\n",
       " {'a': 'Lamborgini', 'model': 'hmm', 'year': 2014},\n",
       " {'a': 'Mercedes', 'model': 'Cos', 'year': 2016},\n",
       " {'a': 'Tesla', 'model': 'X', 'year': 2020}]"
      ]
     },
     "execution_count": 6,
     "metadata": {},
     "output_type": "execute_result"
    }
   ],
   "source": [
    "a = [{'a':'Ford', 'model':'Focus', 'year':2012},\n",
    "     {'a':'Mercedes', 'model':'Cos', 'year':2016},\n",
    "     {'a':'Tesla', 'model':'X', 'year':2020},\n",
    "     {'a':'Lamborgini', 'model':'hmm', 'year':2014}]\n",
    "\n",
    "# using this list of dictionaries sort it by year. a = sorted(a, key=lambda x: x['year'])\n",
    "\n"
   ]
  },
  {
   "cell_type": "code",
   "execution_count": 4,
   "id": "dc3ee75c",
   "metadata": {},
   "outputs": [
    {
     "data": {
      "text/plain": [
       "[38, 23, 31]"
      ]
     },
     "execution_count": 4,
     "metadata": {},
     "output_type": "execute_result"
    }
   ],
   "source": [
    "a = {\"persons\": [{\"name\": \"erik\", \"age\": 38},{\"name\": \"ek\", \"age\": 23},{\"name\": \"derek\", \"age\": 31}]}\n",
    "\n",
    "# create a list that will contain all ages from given data. a = list(i['age'] for i in a['persons'])\n",
    "\n"
   ]
  },
  {
   "cell_type": "code",
   "execution_count": null,
   "id": "7ae63e39",
   "metadata": {},
   "outputs": [],
   "source": []
  }
 ],
 "metadata": {
  "kernelspec": {
   "display_name": "Python 3",
   "language": "python",
   "name": "python3"
  },
  "language_info": {
   "codemirror_mode": {
    "name": "ipython",
    "version": 3
   },
   "file_extension": ".py",
   "mimetype": "text/x-python",
   "name": "python",
   "nbconvert_exporter": "python",
   "pygments_lexer": "ipython3",
   "version": "3.8.8"
  }
 },
 "nbformat": 4,
 "nbformat_minor": 5
}
