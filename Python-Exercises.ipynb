{
 "cells": [
  {
   "cell_type": "code",
   "execution_count": null,
   "id": "188c1e04",
   "metadata": {},
   "outputs": [],
   "source": [
    "a = [\"I\", \"am\", \"Ricardo\", \"Biden\"]\n",
    "\n",
    "#change this list into string\t\t\t\t\t\t\t\t\t\t \t\t\t\t\t\t\t\t\t\t\t\t\t\t\t\t\t\t\t\t\t\" \".join(a)\n",
    "\n"
   ]
  },
  {
   "cell_type": "code",
   "execution_count": null,
   "id": "61ebb98c",
   "metadata": {},
   "outputs": [],
   "source": [
    "a = \"I am Ricardo Biden\"\n",
    "\n",
    "#change this string into list\t\t\t\t\t\t\t\t\t\t\t\t\t\t\t\t\t\t\t\t\t\t\t\t\t\t\t\t\ta.split(\" \")\n",
    "\n"
   ]
  },
  {
   "cell_type": "code",
   "execution_count": null,
   "id": "91c4ddd5",
   "metadata": {},
   "outputs": [],
   "source": [
    "x = (4, 2, 5)\n",
    "y = (1, 2, 3)\n",
    "\n",
    "#swap tuples so x will be (1, 2, 3)\t\t\t\t\t\t\t\t\t\t\t\t\t\t\t\t\t\t\t\t\t\t\t\t\t\t\tx, b = b, x\n",
    "\n"
   ]
  }
 ],
 "metadata": {
  "kernelspec": {
   "display_name": "Python 3",
   "language": "python",
   "name": "python3"
  },
  "language_info": {
   "codemirror_mode": {
    "name": "ipython",
    "version": 3
   },
   "file_extension": ".py",
   "mimetype": "text/x-python",
   "name": "python",
   "nbconvert_exporter": "python",
   "pygments_lexer": "ipython3",
   "version": "3.8.8"
  }
 },
 "nbformat": 4,
 "nbformat_minor": 5
}
